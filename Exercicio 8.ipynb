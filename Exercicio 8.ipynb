{
 "cells": [
  {
   "cell_type": "markdown",
   "metadata": {},
   "source": [
    "# Lista de Exericícios 8\n",
    "Gabriela Vieira de Moraes RA 81610253"
   ]
  },
  {
   "cell_type": "markdown",
   "metadata": {},
   "source": [
    "#### 1 Faça um Programa que peça o raio de um círculo, calcule e mostre sua área. "
   ]
  },
  {
   "cell_type": "code",
   "execution_count": 1,
   "metadata": {},
   "outputs": [
    {
     "name": "stdout",
     "output_type": "stream",
     "text": [
      "Digite o raio do circulo10\n",
      "314.1592653589793\n"
     ]
    }
   ],
   "source": [
    "import math\n",
    "\n",
    "raio = float (input ('Digite o raio do circulo'))\n",
    "area = math.pi * raio**2\n",
    "print(area)"
   ]
  },
  {
   "cell_type": "markdown",
   "metadata": {},
   "source": [
    "#### 2 Faça um Programa que calcule a área de um quadrado, em seguida mostre o dobro desta área para o usuário."
   ]
  },
  {
   "cell_type": "code",
   "execution_count": 2,
   "metadata": {},
   "outputs": [
    {
     "name": "stdout",
     "output_type": "stream",
     "text": [
      "Digite a base do quadrado4\n",
      "Digite a altura do quadrado8\n",
      "64.0\n"
     ]
    }
   ],
   "source": [
    "base = float (input ('Digite a base do quadrado'))\n",
    "altura = float (input('Digite a altura do quadrado'))\n",
    "areaq = (base * altura)\n",
    "print (areaq*2)"
   ]
  },
  {
   "cell_type": "markdown",
   "metadata": {},
   "source": [
    "#### 3 Faça um Programa que pergunte quanto você ganha por hora e o número de horas trabalhadas no mês. Calcule e mostre o total do seu salário no referido mês. "
   ]
  },
  {
   "cell_type": "code",
   "execution_count": 3,
   "metadata": {},
   "outputs": [
    {
     "name": "stdout",
     "output_type": "stream",
     "text": [
      "Quanto ganha por hora?50\n",
      "Quantas horas trabalha no mês?100\n",
      "Você ganha no mês R$ 5000.0 reais\n"
     ]
    }
   ],
   "source": [
    "horas= float(input('Quanto ganha por hora?')) \n",
    "preco = float(input('Quantas horas trabalha no mês?' ))\n",
    "salario = (horas * preco)\n",
    "print (f'Você ganha no mês R$ {salario} reais')"
   ]
  },
  {
   "cell_type": "markdown",
   "metadata": {},
   "source": [
    "####  4 Faça um Programa que peça a temperatura em graus Farenheit, transforme e mostre a temperatura em graus Celsius. C = (5 * (F-32) / 9). "
   ]
  },
  {
   "cell_type": "code",
   "execution_count": 4,
   "metadata": {},
   "outputs": [
    {
     "name": "stdout",
     "output_type": "stream",
     "text": [
      "A temperatura é de 30.56 graus Celsius.\n"
     ]
    }
   ],
   "source": [
    "f = 87\n",
    "c = (5*(f-32)/9)\n",
    "print (f'A temperatura é de {c:.2f} graus Celsius.')"
   ]
  },
  {
   "cell_type": "markdown",
   "metadata": {},
   "source": [
    "####  5 Faça um Programa que peça a temperatura em graus Celsius, transforme e mostre em graus Farenheit. "
   ]
  },
  {
   "cell_type": "code",
   "execution_count": 5,
   "metadata": {},
   "outputs": [
    {
     "name": "stdout",
     "output_type": "stream",
     "text": [
      "Qual é a temperatura (Celcius)?40\n",
      "Quando a temperatura está 40.0 graus em Celcius, em Farenheit está 313.0 graus\n"
     ]
    }
   ],
   "source": [
    "temperatura = float(input('Qual é a temperatura (Celcius)?'))\n",
    "f = (temperatura +  273)\n",
    "print (f'Quando a temperatura está {temperatura} graus em Celcius, em Farenheit está {f} graus')"
   ]
  },
  {
   "cell_type": "markdown",
   "metadata": {},
   "source": [
    "####  6 Faça um Programa que peça 2 números inteiros e um número real. Calcule e mostre:\n",
    "- o produto do dobro do primeiro com metade do segundo .\n",
    "- a soma do triplo do primeiro com o terceiro.\n",
    "- o terceiro elevado ao cubo."
   ]
  },
  {
   "cell_type": "code",
   "execution_count": 6,
   "metadata": {},
   "outputs": [
    {
     "name": "stdout",
     "output_type": "stream",
     "text": [
      "Digite um número inteiro 1\n",
      "Digite um numero real 0.50\n",
      "O produto do dobro do primeiro com metade do segundo:0.5\n",
      "A soma do triplo do primeiro com o terceiro(0.5):3.5\n",
      "O terceiro(0.5) elevado ao cubo: 0.125\n"
     ]
    }
   ],
   "source": [
    "n1 = int(input('Digite um número inteiro '))\n",
    "n2 = float(input('Digite um numero real '))\n",
    "item1 =((n1*2)*(n2/2))\n",
    "print(f'O produto do dobro do primeiro com metade do segundo:{item1}')\n",
    "item2 = ((n1*3)+(item1))\n",
    "print (f'A soma do triplo do primeiro com o terceiro({item1}):{item2}')\n",
    "item3 = (item1**3)\n",
    "print (f'O terceiro({item1}) elevado ao cubo: {item3}')"
   ]
  },
  {
   "cell_type": "markdown",
   "metadata": {},
   "source": [
    "####  7 João Papo-de-Pescador, homem de bem, comprou um microcomputador para controlar o rendimento diário de seu trabalho. Toda vez que ele traz um peso de peixes maior que o estabelecido pelo regulamento de pesca do estado de São Paulo (50 quilos) deve pagar uma multa de RS 4,00 por quilo excedente. João precisa que você faça um programa que leia a variável peso (peso de peixes) e verifique se há excesso. Se houver, gravar na variável excesso e na variável multa o valor da multa que João deverá pagar. Caso contrário mostrar tais variáveis com o conteúdo ZERO."
   ]
  },
  {
   "cell_type": "code",
   "execution_count": 7,
   "metadata": {},
   "outputs": [
    {
     "name": "stdout",
     "output_type": "stream",
     "text": [
      "Quanto kilos de peixe? 55\n",
      "Passou 5.0 kilos\n",
      "Sua multa é de r$ 20.0\n"
     ]
    }
   ],
   "source": [
    "kilo = float(input('Quanto kilos de peixe? '))\n",
    "peso = kilo - 50.00\n",
    "print (f'Passou {peso} kilos')\n",
    "multa = (peso * 4.00)\n",
    "print (f'Sua multa é de r$ {multa}')\n"
   ]
  },
  {
   "cell_type": "markdown",
   "metadata": {},
   "source": [
    "####  8 Faça um Programa que pergunte quanto você ganha por hora e o número de horas trabalhadas no mês. Calcule e mostre o total do seu salário no referido mês, sabendo-se que são descontados 11% para o Imposto de Renda, 8% para o INSS e 5% para o sindicato, faça um programa que nos dê:\n",
    "- salário bruto.\n",
    "- quanto pagou ao INSS.\n",
    "- quanto pagou ao sindicato.\n",
    "- o salário líquido.\n",
    "- calcule os descontos e o salário líquido, conforme a tabela abaixo:\n",
    "+ Salário Bruto : RS\n",
    "- IR (11%) : RS\n",
    "- INSS (8%) : RS\n",
    "- Sindicato ( 5%) : RS\n",
    "= Salário Liquido : RS\n",
    "Obs.: Salário Bruto - Descontos = Salário Líquido."
   ]
  },
  {
   "cell_type": "code",
   "execution_count": 8,
   "metadata": {},
   "outputs": [
    {
     "name": "stdout",
     "output_type": "stream",
     "text": [
      "Quanto ganha por hora?50\n",
      "Quantas horas trabalha no mês?100\n",
      "Seu salário bruto é 5000.0 reais\n",
      "Você pagou ao imposto de renda 550.0 reais\n",
      "Você pagou ao INSS 400.0 reais\n",
      "Você pagou ao sindicato 250.0 reais\n",
      "Salario liquido = 3800.0\n"
     ]
    }
   ],
   "source": [
    "horas= float(input('Quanto ganha por hora?')) \n",
    "preco = float(input('Quantas horas trabalha no mês?' ))\n",
    "salario = (horas * preco)\n",
    "print (f'Seu salário bruto é {salario} reais')\n",
    "renda = 0.11\n",
    "print (f'Você pagou ao imposto de renda {salario*renda} reais')\n",
    "inss = 0.08\n",
    "print (f'Você pagou ao INSS {salario*inss} reais')\n",
    "sind = 0.05\n",
    "print (f'Você pagou ao sindicato {salario*sind} reais')\n",
    "liq = ( 1-(renda+inss+sind) )\n",
    "print (f'Salario liquido = {salario*liq}')\n"
   ]
  },
  {
   "cell_type": "markdown",
   "metadata": {},
   "source": [
    " #### 10 Faça um programa que permita ao usuário digitar o seu nome e em seguida mostre o nome do usuário de trás para frente utilizando somente letras maiúsculas. Dica: lembre−se que ao informar o nome o usuário pode digitar letras maiúsculas ou minúsculas. Observação: não use loops. "
   ]
  },
  {
   "cell_type": "code",
   "execution_count": 9,
   "metadata": {},
   "outputs": [
    {
     "name": "stdout",
     "output_type": "stream",
     "text": [
      "Digite o seu nome: gabriela \n"
     ]
    },
    {
     "data": {
      "text/plain": [
       "' ALEIRBAG'"
      ]
     },
     "execution_count": 9,
     "metadata": {},
     "output_type": "execute_result"
    }
   ],
   "source": [
    "nome = input('Digite o seu nome: ')\n",
    "\n",
    "nome [::-1].upper()"
   ]
  },
  {
   "cell_type": "markdown",
   "metadata": {},
   "source": [
    "####  11 Faça um programa que solicite a data de nascimento (dd/mm/aaaa) do usuário e imprima a data com o nome do mês por extenso.  Obs.: Não use desvio condicional nem loops.\n",
    "Data de Nascimento: 29/10/1973.\n",
    "\n",
    "Você nasceu em 29 de Outubro de 1973.\n"
   ]
  },
  {
   "cell_type": "code",
   "execution_count": 10,
   "metadata": {},
   "outputs": [
    {
     "name": "stdout",
     "output_type": "stream",
     "text": [
      "Digite o dia do seu anversário (dd/mm/aaaa) 18/03/1999\n",
      "Você nasceu 18 de Março de 1999 .\n"
     ]
    }
   ],
   "source": [
    "extenso = {1:'Janeiro', 2: 'Fevereiro', 3:'Março', 4:\"Abril\", 5:'Maio', 6:'Junho', \n",
    "           7:'Ferias,', 8: 'Agosto', 9:'Setembro', 10:'Outubro', 11:'Novembro', 12:'Dezembro'}\n",
    "\n",
    "nasc = input('Digite o dia do seu anversário (dd/mm/aaaa) ')\n",
    "d, m, a = nasc.split('/')\n",
    "print ('Você nasceu %s de %s de %s .' % (d, extenso[int (m)], a))"
   ]
  },
  {
   "cell_type": "markdown",
   "metadata": {},
   "source": [
    "#### 12 Leet é uma forma de se escrever o alfabeto latino usando outros símbolos em lugar das letras, como números por exemplo. A própria palavra leet admite muitas variações, como l33t ou 1337. O uso do leet reflete uma subcultura relacionada ao mundo dos jogos de computador e internet, sendo muito usada para confundir os iniciantes e afirmar-se como parte de um grupo. Pesquise sobre as principais formas de traduzir as letras. Depois, faça um programa que peça uma texto e transforme-o para a grafia leet speak. Desafio: não use loops nem desvios condicionais."
   ]
  },
  {
   "cell_type": "code",
   "execution_count": 3,
   "metadata": {},
   "outputs": [
    {
     "ename": "SyntaxError",
     "evalue": "invalid syntax (<ipython-input-3-0366d23c7eb0>, line 1)",
     "output_type": "error",
     "traceback": [
      "\u001b[1;36m  File \u001b[1;32m\"<ipython-input-3-0366d23c7eb0>\"\u001b[1;36m, line \u001b[1;32m1\u001b[0m\n\u001b[1;33m    alf_leet = [A:'4', b:'8', e:'3', g:'6']\u001b[0m\n\u001b[1;37m                 ^\u001b[0m\n\u001b[1;31mSyntaxError\u001b[0m\u001b[1;31m:\u001b[0m invalid syntax\n"
     ]
    }
   ],
   "source": [
    "alf_leet = [A:'4', b:'8', e:'3', g:'6']\n",
    "x = input('Digite  duas letras (x,x) :')\n",
    "x= x.split(',')\n",
    "print ('Você digitou %s na linha acima' %(alf_let))\n"
   ]
  },
  {
   "cell_type": "markdown",
   "metadata": {},
   "source": [
    "#### 13 Crie um programa que recebe uma lista de números e \n",
    "-\tretorne o maior elemento\n",
    "-\tretorne a soma dos elementos\n",
    "-\tretorne o número de ocorrências do primeiro elemento da lista\n",
    "-\tretorne a média dos elementos\n",
    "-\tretorne o valor mais próximo da média dos elementos\n",
    "-\tretorne a soma dos elementos com valor negativo\n",
    "-\tretorne a quantidade de vizinhos iguais"
   ]
  },
  {
   "cell_type": "code",
   "execution_count": 14,
   "metadata": {},
   "outputs": [
    {
     "name": "stdout",
     "output_type": "stream",
     "text": [
      "Maior = 10\n",
      "Soma = 44\n",
      "Ocorrências de 3 = 2\n",
      "Media da lista = 4.4\n",
      "Valor mais proximo da media é 4\n"
     ]
    }
   ],
   "source": [
    "import math\n",
    "lista = [3,2,3,4,5,1,7,4,5,10]\n",
    "print (f'Maior = {max(lista)}')\n",
    "print (f'Soma = {sum(lista)}')\n",
    "print (f'Ocorrências de {lista[0]} = {lista.count(lista[0])}')\n",
    "media = sum(lista)/len(lista)\n",
    "print (f'Media da lista = {media}')\n",
    "proximo = [math.isclose(l, media, rel_tol=1e-1, abs_tol=0.0) for l in lista]\n",
    "print (f'Valor mais proximo da media é {lista[proximo.index(True)]}')"
   ]
  },
  {
   "cell_type": "markdown",
   "metadata": {},
   "source": [
    "#### 14 Faça um programa que receba duas listas e retorne True se são iguais ou False caso contrario. Duas listas são iguais se possuem os mesmos valores e na mesma ordem."
   ]
  },
  {
   "cell_type": "code",
   "execution_count": 15,
   "metadata": {},
   "outputs": [
    {
     "name": "stdout",
     "output_type": "stream",
     "text": [
      "Digite um numero para ocupar a posição 0 da lista a 3\n",
      "Digite um numero para ocupar a posição 1 da lista a 0\n",
      "Digite um numero para ocupar a posição 0 da lista b 3\n",
      "Digite um numero para ocupar a posição 1 da lista b 0\n",
      "['3', '0']\n",
      "['3', '0']\n",
      "As lista são iguais? True\n"
     ]
    }
   ],
   "source": [
    "listaa = [input('Digite um numero para ocupar a posição 0 da lista a ' ) ]\n",
    "listaa.append(input('Digite um numero para ocupar a posição 1 da lista a ') )\n",
    "listab = [input('Digite um numero para ocupar a posição 0 da lista b ' ) ]\n",
    "listab.append(input('Digite um numero para ocupar a posição 1 da lista b ') )\n",
    "print (listaa)\n",
    "print (listab)\n",
    "x = (listaa == listab)\n",
    "print (f'As lista são iguais? {x}')"
   ]
  },
  {
   "cell_type": "markdown",
   "metadata": {},
   "source": [
    "#### 15 Faça um programa que receba duas listas e retorne True se têm os mesmos elementos ou False caso contrário Duas listas possuem os mesmos elementos quando são compostas pelos mesmos valores, mas não obrigatoriamente na mesma ordem."
   ]
  },
  {
   "cell_type": "code",
   "execution_count": null,
   "metadata": {},
   "outputs": [],
   "source": [
    "list1 =[input('Digite numero para prencher a posição 0 na lista 1')]  \n",
    "list1.append(input('Digite  numero para prencher a posição 1 na lista 1')) \n",
    "list2 = [input('Digite  numero para prencher a posição 0 na lista 2')]\n",
    "list2.append(input('Digite  numero para prencher a posição 1 na lista 2')) \n",
    "print (f'A lista 1 é: {list1}')\n",
    "print (f'A lista 2 é: {list2}')\n",
    "x = (list1 == list2)\n",
    "print(x)"
   ]
  },
  {
   "cell_type": "markdown",
   "metadata": {},
   "source": [
    "#### 16 Faça um programa que percorre uma lista com o seguinte formato: [['Brasil','Italia', [10, 9]], ['Brasil', 'Espanha', [5, 7]], ['Italia', 'Espanha', [7,8]]]. Essa lista indica o número de faltas que cada time fez em cada jogo. Na lista acima, no jogo entre Brasil e Itália, o Brasil fez 10 faltas e a Itália fez 9. O programa deve imprimir na tela:\n",
    "- o total de faltas do campeonato\n",
    "- o time que fez mais faltas\n",
    "- o time que fez menos faltas"
   ]
  },
  {
   "cell_type": "code",
   "execution_count": null,
   "metadata": {},
   "outputs": [],
   "source": []
  },
  {
   "cell_type": "markdown",
   "metadata": {},
   "source": [
    "#### 17 Escreva um programa que conta a quantidade de vogais em uma string e armazena tal quantidade em um dicionário, onde a chave é a vogal considerada."
   ]
  },
  {
   "cell_type": "code",
   "execution_count": null,
   "metadata": {},
   "outputs": [],
   "source": []
  },
  {
   "cell_type": "markdown",
   "metadata": {},
   "source": [
    "#### 18 Escreva um programa que lê̂ duas notas de vários alunos e armazena tais notas em um dicionário, onde a chave é o nome do aluno. A entrada de dados deve terminar quando for lida uma string vazia como nome. Escreva uma função que retorna a média do aluno, dado seu nome. "
   ]
  },
  {
   "cell_type": "code",
   "execution_count": null,
   "metadata": {},
   "outputs": [],
   "source": []
  },
  {
   "cell_type": "markdown",
   "metadata": {},
   "source": [
    "#### 19 Uma pista de Kart permite 10 voltas para cada um de 6 corredores. Escreva um programa que leia todos os tempos em segundos e os guarde em um dicionário, onde a chave é o nome do corredor. Ao final diga de quem foi a melhor volta da prova e em que volta; e ainda a classificação final em ordem (1o o campeão). O campeão é o que tem a menor média de tempos."
   ]
  },
  {
   "cell_type": "code",
   "execution_count": null,
   "metadata": {},
   "outputs": [],
   "source": []
  },
  {
   "cell_type": "markdown",
   "metadata": {},
   "source": [
    "#### 20 Escreva um programa para armazenar uma agenda de telefones em um dicionário. Cada pessoa pode ter um ou mais telefones e a chave do dicionário é o nome da pessoa. Seu programa deve ter as seguintes funções:\n",
    "- incluirNovoNome – essa função acrescenta um novo nome na agenda, com um ou mais telefones. Ela deve receber como argumentos o nome e os telefones.\n",
    "- incluirTelefone – essa função acrescenta um telefone em um nome existente na agenda. Caso o nome não exista na agenda, você̂ deve perguntar se a pessoa deseja inclui-lo. Caso a resposta seja afirmativa, use a função anterior para incluir o novo nome.\n",
    "- excluirTelefone – essa função exclui um telefone de uma pessoa que já está na agenda. Se a pessoa tiver apenas um telefone, ela deve ser excluída da agenda.\n",
    "- excluirNome – essa função exclui uma pessoa da agenda.\n",
    "- consultarTelefone – essa função retorna os telefones de uma pessoa na agenda."
   ]
  },
  {
   "cell_type": "code",
   "execution_count": null,
   "metadata": {},
   "outputs": [],
   "source": []
  },
  {
   "cell_type": "markdown",
   "metadata": {},
   "source": [
    "#### 21 Faça um programa que leia um arquivo texto contendo uma lista de endereços IP e gere um outro arquivo, contendo um relatório dos endereços IP válidos e inválidos.\n",
    "O arquivo de entrada possui o seguinte formato:\n",
    "200.135.80.9\n",
    "192.168.1.1\n",
    "8.35.67.74\n",
    "257.32.4.5\n",
    "85.345.1.2\n",
    "1.2.3.4\n",
    "9.8.234.5\n",
    "192.168.0.256\n",
    "O arquivo de saída possui o seguinte formato:\n",
    "[Endereços válidos:]\n",
    "200.135.80.9\n",
    "192.168.1.1\n",
    "8.35.67.74\n",
    "1.2.3.4\n",
    "[Endereços inválidos:]\n",
    "257.32.4.5\n",
    "85.345.1.2\n",
    "9.8.234.5\n",
    "192.168.0.256"
   ]
  },
  {
   "cell_type": "code",
   "execution_count": null,
   "metadata": {},
   "outputs": [],
   "source": []
  },
  {
   "cell_type": "markdown",
   "metadata": {},
   "source": [
    "#### 22 Faça um programa que leia um arquivo texto contendo uma lista de endereços IP e gere um outro arquivo, contendo um relatório dos endereços IP válidos e inválidos.\n",
    "O arquivo de entrada possui o seguinte formato:\n",
    "200.135.80.9\n",
    "192.168.1.1\n",
    "8.35.67.74\n",
    "257.32.4.5\n",
    "85.345.1.2\n",
    "1.2.3.4\n",
    "9.8.234.5\n",
    "192.168.0.256\n",
    "O arquivo de saída possui o seguinte formato:\n",
    "[Endereços válidos:]\n",
    "200.135.80.9\n",
    "192.168.1.1\n",
    "8.35.67.74\n",
    "1.2.3.4\n",
    "[Endereços inválidos:]\n",
    "257.32.4.5\n",
    "85.345.1.2\n",
    "9.8.234.5\n",
    "192.168.0.256\n",
    "\n",
    "Neste arquivo, o nome do usuário possui 15 caracteres. A partir deste arquivo, você\n",
    "deve criar um programa que gere um relatório, chamado \"relatório.txt\", no seguinte\n",
    "formato:\n",
    "ACME Inc. Uso do espaço em disco pelos usuários\n",
    "--------------------------------------------------------------\n",
    "----------\n",
    "Nr. Usuário Espaço utilizado % do uso\n",
    "1 alexandre 434,99 MB 16,85%\n",
    "2 anderson 1187,99 MB 46,02%\n",
    "3 antonio 117,73 MB 4,56%\n",
    "4 carlos 87,03 MB 3,37%\n",
    "5 cesar 0,94 MB 0,04%\n",
    "6 rosemary 752,88 MB 29,16%\n",
    "Espaço total ocupado: 2581,57 MB\n",
    "Espaço médio ocupado: 430,26 MB\n",
    "O arquivo de entrada deve ser lido uma única vez, e os dados armazenados em\n",
    "memória, caso sejam necessários, de forma a agilizar a execução do programa. A\n",
    "conversão da espaço ocupado em disco, de bytes para megabytes deverá ser feita\n",
    "através de uma função separada, que será chamada pelo programa principal. O\n",
    "cálculo do percentual de uso também deverá ser feito através de uma função, que\n",
    "será chamada pelo programa principal."
   ]
  },
  {
   "cell_type": "code",
   "execution_count": null,
   "metadata": {},
   "outputs": [],
   "source": []
  }
 ],
 "metadata": {
  "kernelspec": {
   "display_name": "Python 3",
   "language": "python",
   "name": "python3"
  },
  "language_info": {
   "codemirror_mode": {
    "name": "ipython",
    "version": 3
   },
   "file_extension": ".py",
   "mimetype": "text/x-python",
   "name": "python",
   "nbconvert_exporter": "python",
   "pygments_lexer": "ipython3",
   "version": "3.6.4"
  }
 },
 "nbformat": 4,
 "nbformat_minor": 2
}
