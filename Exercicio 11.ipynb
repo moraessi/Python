{
 "cells": [
  {
   "cell_type": "markdown",
   "metadata": {},
   "source": [
    "## Lista de exercicios 11\n",
    "\n",
    "Gabreial Vieira - 81610253 - SIN3AN-MCA1"
   ]
  },
  {
   "cell_type": "markdown",
   "metadata": {},
   "source": [
    " #### 1 - Defina a função soma_nat que recebe como argumento um número natural n e devolve a soma de todos os números naturais até n."
   ]
  },
  {
   "cell_type": "code",
   "execution_count": 76,
   "metadata": {},
   "outputs": [
    {
     "name": "stdout",
     "output_type": "stream",
     "text": [
      "Digite um numeor para fazermos a soma: 3\n",
      "A soma dos numeros é igual a 6\n"
     ]
    }
   ],
   "source": [
    "n = int(input(\"Digite um numeor para fazermos a soma: \"))\n",
    "\n",
    "def soma_nat(n):\n",
    "     \n",
    "    resultado = 0\n",
    "    i = 1\n",
    "    if n>0 :\n",
    "        while i <=n:\n",
    "            resultado+=i\n",
    "            n+i\n",
    "            i +=1\n",
    "        return(f'A soma dos numeros é igual a {resultado}')\n",
    "    else: \n",
    "        return(\"O numero digitado é menor ou igual a zero!!! \") \n",
    "\n",
    "\n",
    "\n",
    "   \n",
    "        \n",
    "\n",
    "print(soma_nat(n))  "
   ]
  },
  {
   "cell_type": "markdown",
   "metadata": {},
   "source": [
    "#### 2 - Defina a função div que recebe como argumentos dois números naturais m e n e devolve o resultado da divisão inteira de m por n. Neste exercício você não pode recorrer às operações aritméticas de multiplicação, divisão e resto da divisão inteira."
   ]
  },
  {
   "cell_type": "code",
   "execution_count": 70,
   "metadata": {},
   "outputs": [
    {
     "name": "stdout",
     "output_type": "stream",
     "text": [
      "Digite o dividendo: 5\n",
      "Digite o divisor: 2\n",
      "O valor da divisão inteira é igual a 2\n"
     ]
    }
   ],
   "source": [
    "n = int (input(\"Digite o dividendo: \"))\n",
    "m = int (input(\"Digite o divisor: \"))\n",
    "\n",
    "def div (n,m):\n",
    "    resultado=1 \n",
    "    resultado = n//m\n",
    "    \n",
    "    return(f'O valor da divisão inteira é igual a {resultado}')\n",
    "\n",
    "\n",
    "\n",
    "print(div(n,m))"
   ]
  },
  {
   "cell_type": "markdown",
   "metadata": {},
   "source": [
    "#### 3 - Defina a função prim_alg que recebe como argumento um número natural e devolve o primeiro algarismo (o mais significativo) na representação decimal de n.\n"
   ]
  },
  {
   "cell_type": "code",
   "execution_count": 75,
   "metadata": {},
   "outputs": [
    {
     "name": "stdout",
     "output_type": "stream",
     "text": [
      "Digite um número: 134236235\n",
      "O primiero algarismo digitado é 1\n"
     ]
    }
   ],
   "source": [
    "def prim_alg (n):\n",
    "    n = input (\"Digite um número: \")\n",
    "    return (f'O primiero algarismo digitado é {n[0]}')\n",
    "\n",
    "print (prim_alg(n))"
   ]
  },
  {
   "cell_type": "markdown",
   "metadata": {},
   "source": [
    "#### 4 - Defina a função prod_lista que recebe como argumento uma lista de inteiros e devolve o produto dos seus elementos."
   ]
  },
  {
   "cell_type": "code",
   "execution_count": 50,
   "metadata": {},
   "outputs": [
    {
     "name": "stdout",
     "output_type": "stream",
     "text": [
      "Digite um numero para armazenar na lista:13\n",
      "Digite um numero para armazenar na lista:12\n",
      "Digite um numero para armazenar na lista:12\n",
      "Digite um numero para armazenar na lista:12\n",
      "Digite um numero para armazenar na lista:12\n",
      "Digite um numero para armazenar na lista:12\n",
      "[13, 12, 12, 12, 12, 12]\n",
      "O produto da lista é 3234816\n"
     ]
    }
   ],
   "source": [
    "def prod_lista ():\n",
    "    \n",
    "    a = int (input(\"Digite um numero para armazenar na lista:\"))\n",
    "    b = int (input(\"Digite um numero para armazenar na lista:\"))\n",
    "    c = int (input(\"Digite um numero para armazenar na lista:\"))\n",
    "    d = int (input(\"Digite um numero para armazenar na lista:\"))\n",
    "    e = int (input(\"Digite um numero para armazenar na lista:\"))\n",
    "    f = int (input(\"Digite um numero para armazenar na lista:\"))\n",
    "    \n",
    "    n = [a,b,c,d,e,f]\n",
    "    \n",
    "    produto = a*b*c*d*e*f\n",
    "    \n",
    "    print(n)\n",
    "    return(f'O produto da lista é {produto}')\n",
    "\n",
    "print (prod_lista())\n",
    "    \n",
    "   \n",
    "    "
   ]
  },
  {
   "cell_type": "markdown",
   "metadata": {},
   "source": [
    "#### 10 - Defina a função inverteLista que recebe como argumento uma lista w e devolve a mesma lista mas invertida."
   ]
  },
  {
   "cell_type": "code",
   "execution_count": 49,
   "metadata": {},
   "outputs": [
    {
     "name": "stdout",
     "output_type": "stream",
     "text": [
      "Digite um numero para armazenar na lista:1\n",
      "Digite um numero para armazenar na lista:2\n",
      "Digite um numero para armazenar na lista:3\n",
      "Digite um numero para armazenar na lista:5\n",
      "Digite um numero para armazenar na lista:7\n",
      "Digite um numero para armazenar na lista:3\n",
      "[1, 2, 3, 5, 7, 3]\n",
      "[3, 7, 5, 3, 2, 1]\n"
     ]
    }
   ],
   "source": [
    "def inverter ():\n",
    "    a = int (input(\"Digite um numero para armazenar na lista:\"))\n",
    "    b = int (input(\"Digite um numero para armazenar na lista:\"))\n",
    "    c = int (input(\"Digite um numero para armazenar na lista:\"))\n",
    "    d = int (input(\"Digite um numero para armazenar na lista:\"))\n",
    "    e = int (input(\"Digite um numero para armazenar na lista:\"))\n",
    "    f = int (input(\"Digite um numero para armazenar na lista:\"))\n",
    "    \n",
    "    n = [a,b,c,d,e,f]\n",
    "    print(n)\n",
    "    return n[::-1]\n",
    "\n",
    "print(inverter())\n",
    "    "
   ]
  }
 ],
 "metadata": {
  "kernelspec": {
   "display_name": "Python 3",
   "language": "python",
   "name": "python3"
  },
  "language_info": {
   "codemirror_mode": {
    "name": "ipython",
    "version": 3
   },
   "file_extension": ".py",
   "mimetype": "text/x-python",
   "name": "python",
   "nbconvert_exporter": "python",
   "pygments_lexer": "ipython3",
   "version": "3.6.4"
  }
 },
 "nbformat": 4,
 "nbformat_minor": 2
}
