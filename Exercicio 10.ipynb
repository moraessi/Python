{
 "cells": [
  {
   "cell_type": "markdown",
   "metadata": {},
   "source": [
    "## Exericicos 9\n",
    "Gabriela Vieira - 81610253 - SIN3AN-MCA1"
   ]
  },
  {
   "cell_type": "markdown",
   "metadata": {},
   "source": [
    "#### 1 Menor de dois pares: Escreva uma função que retorne o menor de dois números dados se ambos os números forem pares, mas retorna o maior se um dos dois for ímpar."
   ]
  },
  {
   "cell_type": "code",
   "execution_count": 18,
   "metadata": {},
   "outputs": [
    {
     "name": "stdout",
     "output_type": "stream",
     "text": [
      "Digite um número para fazermos a comparação: 2\n",
      "Digite outro número: 5\n",
      "5\n"
     ]
    }
   ],
   "source": [
    "a =int(input(\"Digite um número para fazermos a comparação: \"))\n",
    "b =int(input(\"Digite outro número: \"))\n",
    "\n",
    "def menor(num1,num2):\n",
    "    if num1 % 2 == 0 and num2 % 2 == 0:\n",
    "        if num1 < num2:\n",
    "            return \n",
    "        else:\n",
    "            return num2\n",
    "    else:\n",
    "        if num1 > num2:\n",
    "            return num1\n",
    "        else:\n",
    "            return num2\n",
    "            \n",
    "print(menor(a,b))\n"
   ]
  },
  {
   "cell_type": "markdown",
   "metadata": {},
   "source": [
    "#### 2 Mesma letra: Escreva uma função que receba uma string com duas palavras e retorne True se ambas palavras começarem com a mesma letra."
   ]
  },
  {
   "cell_type": "code",
   "execution_count": 21,
   "metadata": {},
   "outputs": [
    {
     "name": "stdout",
     "output_type": "stream",
     "text": [
      "Digite uma palavra para fazermos a comparação: giovana\n",
      "Digite outra palavra: rosane\n",
      "False\n"
     ]
    }
   ],
   "source": [
    "a = input(\"Digite uma palavra para fazermos a comparação: \")\n",
    "b = input(\"Digite outra palavra: \")\n",
    "\n",
    "lista1 = list(a)\n",
    "lista2 = list(b)\n",
    "\n",
    "def palavras(lista1,lista2):\n",
    "    if lista1[0]== lista2[0]:\n",
    "        return True\n",
    "    else:\n",
    "        return False\n",
    "\n",
    "print(palavras(a,b))"
   ]
  },
  {
   "cell_type": "markdown",
   "metadata": {},
   "source": [
    "#### 3 Mestre Yoda: Dada uma sentença, a função deve retornar a sentença com as palavras na ordem reversa. "
   ]
  },
  {
   "cell_type": "code",
   "execution_count": 19,
   "metadata": {},
   "outputs": [],
   "source": [
    "def mestre_yoda(s):\n",
    "        lista = s.split()\n",
    "        lista = lista[::-1]\n",
    "        frase = \" \"\n",
    "        for p in lista:\n",
    "            frase += \" \"+ p \n",
    "        return frase "
   ]
  },
  {
   "cell_type": "code",
   "execution_count": 20,
   "metadata": {},
   "outputs": [
    {
     "name": "stdout",
     "output_type": "stream",
     "text": [
      "  casa em estou Eu\n",
      "  prontos Estamos\n"
     ]
    }
   ],
   "source": [
    "print (mestre_yoda('Eu estou em casa'))\n",
    "print (mestre_yoda('Estamos prontos'))"
   ]
  },
  {
   "cell_type": "markdown",
   "metadata": {},
   "source": [
    "#### 4 Tem 33: Faça uma função que retorne True se, dada uma lista de inteiros, houver em alguma posição da lista um 3 do lado de outro 3. "
   ]
  },
  {
   "cell_type": "code",
   "execution_count": 25,
   "metadata": {},
   "outputs": [
    {
     "name": "stdout",
     "output_type": "stream",
     "text": [
      "True\n",
      "False\n"
     ]
    }
   ],
   "source": [
    "def ex4(lista):\n",
    "    for a in range(1,len(lista)-1):\n",
    "        if lista[a]==3:\n",
    "            if lista[a+1]==3:\n",
    "                return True\n",
    "    else:\n",
    "        return False\n",
    "    \n",
    "\n",
    "\n",
    "lista=(2,3,3,0,4,6)\n",
    "lista2=(1,2,3)\n",
    "print (ex4(lista))\n",
    "print (ex4(lista2))"
   ]
  },
  {
   "cell_type": "markdown",
   "metadata": {},
   "source": [
    "#### 5 Blackjack: Faça uma função que receba 3 inteiros entre 1 e 11. Se a soma deles for menor que 21, retorne o valor da soma. Se for mair do que 21 e houver um 11, subtraia 10 da soma antes de apresentar o resultado. Se o valor da soma passar de 21, retorne ‘ESTOUROU’. "
   ]
  },
  {
   "cell_type": "code",
   "execution_count": 18,
   "metadata": {},
   "outputs": [
    {
     "name": "stdout",
     "output_type": "stream",
     "text": [
      "Digite um número para fazermos a comparação: 1\n",
      "Digite outro número: 2\n",
      "Digite um número para fazermos a comparação: 3\n",
      "6\n"
     ]
    }
   ],
   "source": [
    "a =int(input(\"Digite um número para fazermos a comparação: \"))\n",
    "b =int(input(\"Digite outro número: \"))\n",
    "c =int(input(\"Digite um número para fazermos a comparação: \"))\n",
    "\n",
    "\n",
    "def ex5(a,b,c):\n",
    "    if a+b+c <=21:\n",
    "        return print(a+b+c)\n",
    "    \n",
    "    else:\n",
    "        if a==11:\n",
    "            a=1\n",
    "        elif b==11:\n",
    "            b=1\n",
    "        elif c==11:\n",
    "            c=1\n",
    "        \n",
    "        if a+b+c<=21:\n",
    "            return(print(a+b+c))\n",
    "        else:\n",
    "            return(\"Estourou\")\n",
    "        \n",
    "\n",
    "ex5(a,b,c)"
   ]
  },
  {
   "cell_type": "markdown",
   "metadata": {},
   "source": [
    "#### 6 Espião: Escreva uma função que receba uma lista de inteiros e retorne True se contém um 007 em ordem, mesmo que não contínuo."
   ]
  },
  {
   "cell_type": "code",
   "execution_count": 21,
   "metadata": {},
   "outputs": [
    {
     "name": "stdout",
     "output_type": "stream",
     "text": [
      "True\n",
      "False\n"
     ]
    }
   ],
   "source": [
    "def espiao(lista):\n",
    "    for x in range(0,len(lista)):\n",
    "        if lista[x]==0:\n",
    "            y=x+1\n",
    "            for x in range(y,len(lista)):\n",
    "                if lista[x]==0:\n",
    "                    z=y+1\n",
    "                    for x in range(z,len(lista)):\n",
    "                        if lista[x]==7:\n",
    "                            return True\n",
    "    return False\n",
    "                            \n",
    "                       \n",
    "        \n",
    "lista= [1,0,2,4,0,5,7]\n",
    "lista2 =[1,0,2,3,0,6,8]\n",
    "\n",
    "print(espiao(lista))\n",
    "print(espiao(lista2))"
   ]
  },
  {
   "cell_type": "markdown",
   "metadata": {},
   "source": [
    "#### 7 Linha: Crie a classe Linha que tem dois atributos, coordenada1 e coordenada2. Cada coordenada é uma tupla que carrega duas coordenadas cartesianas (x,y) que denotam pontos do segmento de reta. Faça métodos que calculem o comprimento do segmento de reta e sua inclinação."
   ]
  },
  {
   "cell_type": "code",
   "execution_count": 52,
   "metadata": {},
   "outputs": [],
   "source": [
    "class Linha:\n",
    "    \n",
    "    def __init__(self,coordenada1,coordenada2):\n",
    "        self._coordenada1 = coordenada1 \n",
    "        self._coordenada2 = coordenada2 \n",
    "        \n",
    "    def comprimento_reta(self):\n",
    "        x = coordenada2[0]-coordenada1[0]\n",
    "        y = coordenada2[1]-coordenada1[1]\n",
    "        h= (x**2 + y**2)**(0.5)\n",
    "        return h \n",
    "    \n",
    "    def set_coordenada1(self, coordenada1):\n",
    "        self._coordenada1 = coordenada1\n",
    "        \n",
    "    def set_coordenada2(self, coordenada2):\n",
    "        self._coordenada2 = coordenada2\n",
    "        \n",
    "    def inclinacao_reta(self):\n",
    "        x = coordenada2[0]-coordenada1[0]\n",
    "        y = coordenada2[1]-coordenada1[1]\n",
    "        h= (x**2 + y**2)**(0.5)\n",
    "        return y/h \n",
    "    \n",
    "     "
   ]
  },
  {
   "cell_type": "code",
   "execution_count": 53,
   "metadata": {},
   "outputs": [
    {
     "name": "stdout",
     "output_type": "stream",
     "text": [
      "comprimento: 5.385164807134504\n",
      "inclinação: 0.3713906763541037\n",
      "comprimento: 17.0\n",
      "inclinação: 0.47058823529411764\n",
      "comprimento: 5.385164807134504\n",
      "inclinação: -0.3713906763541037\n"
     ]
    }
   ],
   "source": [
    "coordenada1 = (5,3)\n",
    "coordenada2 = (10,5)\n",
    "linha = Linha(coordenada1,coordenada2)\n",
    "print('comprimento:', linha.comprimento_reta())\n",
    "print('inclinação:', linha.inclinacao_reta())\n",
    "\n",
    "coordenada1 = (10,-5)\n",
    "coordenada2 = (-5,3)\n",
    "linha.set_coordenada1(coordenada1)\n",
    "linha.set_coordenada2(coordenada2)\n",
    "print('comprimento:', linha.comprimento_reta())\n",
    "print('inclinação:', linha.inclinacao_reta())\n",
    "\n",
    "\n",
    "coordenada1 = (10,5)\n",
    "coordenada2 = (5,3)\n",
    "linha.set_coordenada1(coordenada1)\n",
    "linha.set_coordenada2(coordenada2)\n",
    "print('comprimento:', linha.comprimento_reta())\n",
    "print('inclinação:', linha.inclinacao_reta())\n"
   ]
  },
  {
   "cell_type": "markdown",
   "metadata": {
    "collapsed": true
   },
   "source": [
    "#### 8 Figuras: Crie a seguinte hierarquia de classes de figuras geométricas. Veja na figura as fórmulas:\n",
    "- a. A classe abstrata Figura deve ter o método abstrato area.\n",
    "- b. A classe concreta Circulo é subclasse de Figura.\n",
    "- c. A classe abstrata Poligono é subclasse de Figura e deve ter os atributos base e altura .\n",
    "- d. As classes concretas Triangulo, Losango, Retangulo e Quadrado são subclasses e Poligono. Tente criar mais uma generalização aqui olhando as fórmulas da área.\n",
    "- e. Os polígonos Retangulo e Quadrado devem implementar a interface Diagonal,que deve ter um método que calcula a diagonal.\n",
    "- f. Crie uma classe Geometria com uma lista de Figuras com pelo menos uma figura de cada e imprima suas áreas, perímetros e diagonais."
   ]
  },
  {
   "cell_type": "code",
   "execution_count": 22,
   "metadata": {},
   "outputs": [
    {
     "name": "stdout",
     "output_type": "stream",
     "text": [
      "6.28\n",
      "0.5\n"
     ]
    }
   ],
   "source": [
    "class Figuras:\n",
    "    def area(self):\n",
    "        pass\n",
    "    \n",
    "class Circulo(Figuras):\n",
    "    raio = 1\n",
    "    def _init_(self, raio):\n",
    "        self.raio = raio\n",
    "    \n",
    "    def area(self,raio):\n",
    "        return self.raio * 3.14 * 2\n",
    "    \n",
    "class Poligono(Figuras):\n",
    "    a = 1\n",
    "    b = 1\n",
    "    def _init_(self,b,a):\n",
    "        self.b = b\n",
    "        self.a = a\n",
    "        \n",
    "    def area(self,a,b):\n",
    "        return self.a * self.b / 2    \n",
    "        \n",
    "c = Circulo()\n",
    "p = Poligono()\n",
    "\n",
    "print(c.area(2))\n",
    "print(p.area(1,1))"
   ]
  },
  {
   "cell_type": "markdown",
   "metadata": {},
   "source": [
    "#### 9 Jogo de Blacjack: Faça um joguinho simples em Python. Aqui estão os requisitos:\n",
    "- Você precisa criar um jogo de BlackJack (21) baseado em texto simples\n",
    "- O jogo precisa ter um jogador contra um croupier automatizado.\n",
    "- O jogador pode desistir ou bater.\n",
    "- O jogador deve ser capaz de escolher o seu valor de aposta.\n",
    "- Você precisa acompanhar o dinheiro total do jogador.\n",
    "- Você precisa alertar o jogador de vitórias, derrotas ou estouros, etc ..."
   ]
  },
  {
   "cell_type": "code",
   "execution_count": null,
   "metadata": {},
   "outputs": [],
   "source": [
    "import os                           \n",
    "import random                       \n",
    "import time                         \n",
    "\n",
    "opjogo = 0\n",
    "jogada = 0\n",
    "totalj = 0\n",
    "totalc = 0\n",
    "#Variáveis da jogada atual e do total de pontos.\n",
    "total1 = 0\n",
    "total2 = 0\n",
    "print(\"Bem Vindo ao BlackJack em Python!! \\n\")\n",
    "opjogo =input(\"Quantos jogadores participarão da partida? \\n\")\n",
    "if opjogo == '1':\n",
    "#Vez do usuário.\n",
    "    opjogo='S';\n",
    "    os.system('clear')\n",
    "    print(\"Você tem que fazer 21 pontos para ganhar, porém sem estourar esse limite, podendo parar após cada jogada.\\n\");\n",
    "    print\n",
    "    totalj=0\n",
    "    while opjogo=='s' or opjogo=='S':   #Laço que deixa as jogadas a critério do usuário.\n",
    "        opjogo = input(\"Deseja fazer a jogada?[S/N] \\n\")\n",
    "        if opjogo=='n' or opjogo=='N':\n",
    "            break\n",
    "        jogada= random.randint(1,10) #Gera números aleatórios de 1 até 10.\n",
    "        totalj=(totalj+jogada)\n",
    "        if totalj >= 21:\n",
    "            break\n",
    "        print\n",
    "        print(\"Você tirou {0} e até agora marcou {1} pontos.\\n\".format(jogada,totalj))\n",
    "        print\n",
    "\n",
    "    print(\"Você marcou {0} pontos, vamos ver o computador...\\n\".format(totalj))\n",
    "    #Vez do Computador\n",
    "    print(\"Agora é minha vez de jogar. Vejo que você fez {0} pontos...\\n\".format(totalj))\n",
    "    totalc=0\n",
    "    while (totalc < 21):\n",
    "        jogada= random.randint(1,10) #Gera números aleatórios de 1 até 10.\n",
    "        totalc=(totalc+jogada)\n",
    "        if totalj > 21:\n",
    "                break\n",
    "        print(\"Tirei {0} pontos e pretendo continuar jogando, pois ainda estou com {1}.\\n\".format(jogada,totalc))\n",
    "        time.sleep(1.2)\n",
    "\n",
    "    print\n",
    "\n",
    "    print(\"O jogador terminou com {0} pontos e o computador com {1} pontos, portanto...\".format(totalj,totalc))\n",
    "    if totalj == 21:\n",
    "        print(\"O jogador ganhou, fazendo os gloriosos 21 pontos =D...\\n\")\n",
    "    elif totalc == 21:\n",
    "        print(\"O computador ganhou, fazendo os gloriosos 21 pontos =D...\\n\")\n",
    "    elif totalc > 21 and totalj <= 21:\n",
    "        print(\"O computador tem um número maior de pontos do que é permitido...O jogador vence.\\n\")\n",
    "    elif totalj > 21 and totalc <= 21:\n",
    "        print(\"O jogador tem um número maior de pontos do que é permitido...O computador vence.\\n\")\n",
    "    elif 21 - totalc > 21 - totalj:\n",
    "        print(\"O computador vence por estar mais perto de 21.\\n\")\n",
    "    elif 21 - totalc < 21 - totalj:\n",
    "        print(\"O jogador vence por estar mais perto de 21.\\n\")\n",
    "        print\n",
    "\n",
    "if opjogo=='2':\n",
    "    print(\"O jogo funciona por turnos, cada jogador terá sua vez e decidirá o que fazer...\\n\")\n",
    "#Vez do jogador número 1.\n",
    "    opjogo='S'\n",
    "    os.system('clear')\n",
    "    print(\"Você tem que fazer 21 pontos para ganhar, porém sem estourar esse limite, podendo parar após cada jogada.\\n\")\n",
    "    print\n",
    "    totalj=0\n",
    "    while opjogo=='s' or opjogo=='S':        #Laço que deixa as jogadas a critério do usuério.\n",
    "        opjogo = input(\"Deseja fazer a jogada?[S/N] \\n\")\n",
    "        if opjogo=='n' or opjogo=='N':\n",
    "            break\n",
    "        jogada= random.randint(1,10) #Gera números aleatórios de 1 até 10.\n",
    "        total1=(total1+jogada)\n",
    "        if totalj >= 21:\n",
    "            break\n",
    "        print\n",
    "        print(\"Você tirou {0} e até agora marcou {1} pontos.\\n\".format(jogada,totalj))\n",
    "        print\n",
    "#Vez do jogador número 2.\n",
    "    opjogo='S'\n",
    "    os.system('clear')\n",
    "    print(\"Você tem que fazer 21 pontos para ganhar, porém sem estourar esse limite, podendo parar após cada jogada.\\n\")\n",
    "    print(\"Cuidado, pois o jogador 1 marcou {0} pontos\".format(total1))\n",
    "    print\n",
    "    totalj=0\n",
    "    while opjogo=='s' or opjogo=='S':   #Laço que deixa as jogadas a critério do usuário.\n",
    "        opjogo = input(\"Deseja fazer a jogada?[S/N] \\n\")\n",
    "        if opjogo=='n' or opjogo=='N':\n",
    "            break\n",
    "        jogada= random.randint(1,10) #Gera números aleatórios de 1 atÃ© 10.\n",
    "        total2=(total2+jogada)\n",
    "        if total2 >= 21:\n",
    "            break\n",
    "        print\n",
    "        print(\"Você tirou {0} e até agora marcou {1} pontos.\\n\".format(jogada,total2))\n",
    "\n",
    "    print(\"O jogador 1 terminou com {0} pontos e o jogador 2 com {1} pontos, portanto...\".format(total1,total1))\n",
    "    if total1 == 21:\n",
    "        print(\"O jogador 1 ganhou, fazendo os gloriosos 21 pontos =D...\\n\")\n",
    "    elif total2 == 21:\n",
    "        print(\"O computador ganhou, fazendo os gloriosos 21 pontos =D...\\n\")\n",
    "    elif total2 > 21 and total1 <= 21:\n",
    "        print(\"O computador tem um número maior de pontos do que é permitido...O jogador vence.\\n\")\n",
    "    elif total1 > 21 and total2 <= 21:\n",
    "        print(\"O jogador tem um número maior de pontos do que é permitido...O computador vence.\\n\")\n",
    "    elif total1==total2:\n",
    "        print(\"Houve um empate...\")\n",
    "    elif 21 - total2 > 21 - total1:\n",
    "        print(\"O jogador 2 vence por estar mais perto de 21.\\n\")\n",
    "    else:\n",
    "        print(\"O jogador 1 vence por estar mais perto de 21.\\n\")\n",
    "        print\n",
    "\n",
    "else:\n",
    "    print(\"O máximo de jogadores permitidos é de 2 \\n\")"
   ]
  }
 ],
 "metadata": {
  "kernelspec": {
   "display_name": "Python 3",
   "language": "python",
   "name": "python3"
  },
  "language_info": {
   "codemirror_mode": {
    "name": "ipython",
    "version": 3
   },
   "file_extension": ".py",
   "mimetype": "text/x-python",
   "name": "python",
   "nbconvert_exporter": "python",
   "pygments_lexer": "ipython3",
   "version": "3.6.4"
  }
 },
 "nbformat": 4,
 "nbformat_minor": 2
}
