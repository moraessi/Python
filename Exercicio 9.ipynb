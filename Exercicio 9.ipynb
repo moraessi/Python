{
 "cells": [
  {
   "cell_type": "markdown",
   "metadata": {},
   "source": [
    "## Exericicos 9 \n",
    "Gabriela Vieira - 81610253 - SIN3AN-MCA1"
   ]
  },
  {
   "cell_type": "markdown",
   "metadata": {},
   "source": [
    "#### 1. Faça um Programa que peça dois números e imprima o maior deles."
   ]
  },
  {
   "cell_type": "code",
   "execution_count": 1,
   "metadata": {},
   "outputs": [
    {
     "name": "stdout",
     "output_type": "stream",
     "text": [
      "Digite um número: 4\n",
      "Digite outro número: 5\n",
      "O maior valor entre 4.0 e 5.0 é: 5.0\n"
     ]
    }
   ],
   "source": [
    "x = float(input(\"Digite um número: \"))\n",
    "y = float(input(\"Digite outro número: \"))\n",
    "if x> y:\n",
    "    print (f'O maior valor entre{x} e {y} é: {x}')\n",
    "else: \n",
    "    print(f'O maior valor entre {x} e {y} é: {y}')"
   ]
  },
  {
   "cell_type": "markdown",
   "metadata": {},
   "source": [
    "#### 2. Faça um Programa que verifique se uma letra digitada é vogal ou consoante."
   ]
  },
  {
   "cell_type": "code",
   "execution_count": 14,
   "metadata": {},
   "outputs": [
    {
     "name": "stdout",
     "output_type": "stream",
     "text": [
      "Digite uma letra: as\n",
      "Digite apenas uma letra!\n"
     ]
    }
   ],
   "source": [
    "x = input(\"Digite uma letra: \")\n",
    "if(len(x) > 1):\n",
    "    print('Digite apenas uma letra!')\n",
    "elif(x.upper() == 'A' or x.upper() == 'E' or x.upper() == 'I' or x.upper() == 'O' or x.upper() == 'U'):\n",
    "    print(f'{x} é uma vogal!')\n",
    "else:\n",
    "    print(f'{x} é uma consoante!')"
   ]
  },
  {
   "cell_type": "markdown",
   "metadata": {},
   "source": [
    "#### 3. Faça um programa para a leitura de duas notas parciais de um aluno. O programa deve calcular a média alcançada por aluno e apresentar: \n",
    "- A mensagem \"Aprovado\", se a média alcançada for maior ou igual a sete;  \n",
    "- A mensagem \"Reprovado\", se a média for menor do que sete; \n",
    "- A mensagem \"Aprovado com Distinção\", se a média for igual a dez."
   ]
  },
  {
   "cell_type": "code",
   "execution_count": 29,
   "metadata": {},
   "outputs": [
    {
     "name": "stdout",
     "output_type": "stream",
     "text": [
      "Insira a primeira nota: 10\n",
      "Insira a segunda nota: 10\n",
      "Média : 10.0 ; Aprovado com Distinção\n"
     ]
    }
   ],
   "source": [
    "a = float(input(\"Insira a primeira nota: \"))\n",
    "b = float(input(\"Insira a segunda nota: \"))\n",
    "\n",
    "media = ((a+b)/2) \n",
    "    \n",
    "if media >= 7 and media < 10:\n",
    "    print(f'Média : {media} ; Aprovado')\n",
    "elif media < 7:\n",
    "    print(f'Média : {media} ; Reporvado')\n",
    "else :\n",
    "    print(f'Média : {media} ; Aprovado com Distinção')"
   ]
  },
  {
   "cell_type": "markdown",
   "metadata": {},
   "source": [
    "#### 4. Faça um Programa que leia três números e mostre-os em ordem decrescente."
   ]
  },
  {
   "cell_type": "code",
   "execution_count": 32,
   "metadata": {},
   "outputs": [
    {
     "name": "stdout",
     "output_type": "stream",
     "text": [
      "Insira um número: 4\n",
      "Insira outro número: 2\n",
      "Insira mais um número: 7\n",
      "[7, 4, 2]\n"
     ]
    }
   ],
   "source": [
    "x = int(input(\"Insira um número: \"))\n",
    "y = int(input(\"Insira outro número: \"))\n",
    "z = int(input(\"Insira mais um número: \"))\n",
    "lst = [x, y, z]\n",
    "lst.sort(reverse = True)\n",
    "print(lst)"
   ]
  },
  {
   "cell_type": "markdown",
   "metadata": {},
   "source": [
    "#### 5. As Organizações Tabajara resolveram dar um aumento de salário aos seus colaboradores e lhe contrataram para desenvolver o programa que calculará os reajustes.  Faça um programa que recebe o salário de um colaborador e o reajuste segundo o seguinte critério, baseado no salário atual:\n",
    "- salários até R$ 280,00 (incluindo) : aumento de 20%\n",
    "- salários entre R$ 280,00 e R$ 700,00 : aumento de 15%\n",
    "- salários entre R$ 700,00 e R$ 1500,00 : aumento de 10%\n",
    "- salários de R$ 1500,00 em diante : aumento de 5% Após o aumento ser realizado,\n",
    "informe na tela:\n",
    "- o salário antes do reajuste;\n",
    "- o percentual de aumento aplicado;\n",
    "- o valor do aumento;\n",
    "- o novo salário, após o aumento."
   ]
  },
  {
   "cell_type": "code",
   "execution_count": 1,
   "metadata": {},
   "outputs": [
    {
     "name": "stdout",
     "output_type": "stream",
     "text": [
      "Insira o valor do salário: 98\n",
      "salario antigo = 98.00\n",
      "percentual aplicado = 20.00\n",
      "valor do aumento = 19.60\n",
      "novo salario = 117.60\n"
     ]
    }
   ],
   "source": [
    "salario = float(input(\"Insira o valor do salário: \"))\n",
    "reajuste = [1.20, 1.15, 1.10, 1.05]\n",
    "labels = ['salario antigo', 'percentual aplicado', 'valor do aumento', 'novo salario']\n",
    "x = 0\n",
    "\n",
    "if(salario <= 280):\n",
    "    y = 0\n",
    "elif(salario > 280 and salario <= 700):\n",
    "    y = 1\n",
    "elif(salario > 700 and salario <= 1500):\n",
    "    y = 2\n",
    "else:\n",
    "    y = 3\n",
    "    \n",
    "novo_salario = salario * reajuste[y]\n",
    "percentual = ((1 - reajuste[y])*100)*(-1)\n",
    "vlr_aumento = novo_salario - salario\n",
    "labels_v = [salario, percentual, vlr_aumento, novo_salario]\n",
    "\n",
    "while x <= 3:\n",
    "    if x == 0:\n",
    "       \n",
    "        print(f'{labels[x]} = %.2f' %(labels_v[x]))\n",
    "       \n",
    "    else:\n",
    "        print(f'{labels[x]} = %.2f' %(labels_v[x]))\n",
    "        \n",
    "    x += 1\n",
    "salario = novo_salario"
   ]
  },
  {
   "cell_type": "markdown",
   "metadata": {},
   "source": [
    "#### 6. Faça um Programa que leia um número e exiba o dia correspondente da semana. (1-Domingo, 2- Segunda, etc.), se digitar outro valor deve aparecer valor inválido."
   ]
  },
  {
   "cell_type": "code",
   "execution_count": 3,
   "metadata": {},
   "outputs": [
    {
     "name": "stdout",
     "output_type": "stream",
     "text": [
      "Insira um numero de 1 a 7 (representa os dias da semana): 1\n",
      "O dia da semana digitado equivale à: Domingo\n"
     ]
    }
   ],
   "source": [
    "dia = int(input(\"Insira um numero de 1 a 7 (representa os dias da semana): \"))\n",
    "lst_semana = {1:'Domingo', 2:'Segunda-feira', 3:'Terça-feira', 4:'Quarta-feira', 5:'Quinta-feira', \n",
    "              6:'Sexta-feira', 7:'Sábado'}\n",
    "if dia > 7:\n",
    "    print(\"Intervalo inválido\")\n",
    "else:\n",
    "    print(\"O dia da semana digitado equivale à: {}\".format(lst_semana[dia]))"
   ]
  },
  {
   "cell_type": "markdown",
   "metadata": {},
   "source": [
    "#### 7. Faça um programa que lê as duas notas parciais obtidas por um aluno numa disciplina ao longo de um semestre, e calcule a sua média. A atribuição de conceitos obedece à tabela abaixo:\n",
    "Média de Aproveitamento Conceito\n",
    "Entre 9.0 e 10.0 A\n",
    "Entre 7.5 e 9.0 B\n",
    "Entre 6.0 e 7.5 C\n",
    "Entre 4.0 e 6.0 D\n",
    "Entre 4.0 e zero E\n",
    "\n",
    "O algoritmo deve mostrar na tela as notas, a média, o conceito correspondente e a\n",
    "mensagem “APROVADO” se o conceito for A, B ou C ou “REPROVADO” se o conceito\n",
    "for D ou E."
   ]
  },
  {
   "cell_type": "code",
   "execution_count": 6,
   "metadata": {},
   "outputs": [
    {
     "name": "stdout",
     "output_type": "stream",
     "text": [
      "Insira a nota 1: 5\n",
      "Insira a nota 2: 10\n",
      "Nota 1: 5.0 / Nota 2: 10.0 \n",
      "Média: 7.5 \n",
      "Conceito: Entre 7.5 e 9.0 / Resultado: B \n",
      "Mensagem: APROVADO\n"
     ]
    }
   ],
   "source": [
    "n1 = float(input(\"Insira a nota 1: \"))\n",
    "n2 = float(input(\"Insira a nota 2: \"))\n",
    "notas = [n1, n2]\n",
    "media = sum(notas)/len(notas)\n",
    "conceito = {'Entre 9.0 e 10.0':'A', 'Entre 7.5 e 9.0':'B','Entre 6.0 e 7.5':'C',\n",
    "            'Entre 4.0 e 6.0':'D','Entre 4.0 e zero':'E' }\n",
    "status = list(conceito.values())\n",
    "conceito_usado = list(conceito.keys())\n",
    "\n",
    "if(media < 0 or media > 10):\n",
    "    print(\"Média inválida\")\n",
    "    status = ['Inválido']\n",
    "    conceito_usado = ['Inválido']\n",
    "    y = 0\n",
    "elif(media >= 0 and media < 4):\n",
    "    y = 4\n",
    "elif(media >= 4 and media < 6):\n",
    "    y = 3\n",
    "elif(media >= 6 and media < 7.5):\n",
    "    y = 2\n",
    "elif(media >= 7.5 and media < 9):\n",
    "    y = 1\n",
    "else:\n",
    "    y = 0\n",
    "    \n",
    "conceito_fim = status[y]\n",
    "desc = conceito_usado[y]\n",
    "\n",
    "if(conceito_fim == 'Inválido'):\n",
    "    mensagem = 'Média inválida!'\n",
    "elif(conceito_fim == 'A' or conceito_fim == 'B' or conceito_fim == 'C'):\n",
    "    mensagem = \"APROVADO\"\n",
    "else:\n",
    "    mensagem = \"REPROVADO\"\n",
    "    \n",
    "print(f\"Nota 1: {n1} / Nota 2: {n2} \\nMédia: {media} \\nConceito: {desc} / Resultado: {conceito_fim} \\nMensagem: {mensagem}\")"
   ]
  },
  {
   "cell_type": "markdown",
   "metadata": {},
   "source": [
    "#### 8. Faça um Programa que peça os 3 lados de um triângulo. O programa deverá informar se os valores podem ser um triângulo. Indique, caso os lados formem um triângulo, se o mesmo é: equilátero, isósceles ou escaleno.\n"
   ]
  },
  {
   "cell_type": "code",
   "execution_count": 10,
   "metadata": {},
   "outputs": [
    {
     "name": "stdout",
     "output_type": "stream",
     "text": [
      "Insira o lado 1 da figura: 3\n",
      "Insira o lado 2 da figura: 4\n",
      "Insira o lado 3 da figura: 5\n",
      "É um triângulo do tipo Escaleno\n"
     ]
    }
   ],
   "source": [
    "def soma(x,y):\n",
    "    return x + y\n",
    "\n",
    "l1 = float(input(\"Insira o lado 1 da figura: \"))\n",
    "l2 = float(input(\"Insira o lado 2 da figura: \"))\n",
    "l3 = float(input(\"Insira o lado 3 da figura: \"))\n",
    "tipo = ['Equilátero', 'Isósceles', 'Escaleno']\n",
    "\n",
    "if(soma(l1,l2) > l3 or soma(l1,l3) > l2 or soma(l2,l3) > l1):\n",
    "    if(l1 == l2 and l1 == l3 and l2 == l3):\n",
    "        print(\"É um triângulo do tipo %s\" %(tipo[0]))\n",
    "    elif(l1 == l2 or l1 == l3 or l2 == l3):\n",
    "        print(\"É um triângulo do tipo %s\" %(tipo[1]))\n",
    "    else:\n",
    "        print(\"É um triângulo do tipo %s\" %(tipo[2]))\n",
    "else:\n",
    "    print(\"Não é um triângulo!\")"
   ]
  },
  {
   "cell_type": "markdown",
   "metadata": {},
   "source": [
    "#### 9. Faça um programa que calcule as raízes de uma equação do segundo grau, na forma ax2 + bx + c. O programa deverá pedir os valores de a, b e c e fazer as consistências, informando ao usuário nas seguintes situações:\n",
    "- Se o usuário informar o valor de A igual a zero, a equação não é do segundo grau e o programa não deve fazer pedir os demais valores, sendo encerrado;\n",
    "- Se o delta calculado for negativo, a equação não possui raizes reais. Informe ao usuário e encerre o programa;\n",
    "- Se o delta calculado for igual a zero a equação possui apenas uma raiz real;\n",
    "#### informe-a ao usuário;\n",
    "- Se o delta for positivo, a equação possui duas raiz reais; informe-as ao usuário;"
   ]
  },
  {
   "cell_type": "code",
   "execution_count": 18,
   "metadata": {},
   "outputs": [
    {
     "name": "stdout",
     "output_type": "stream",
     "text": [
      "Insira o valor de 'a': 1\n",
      "Insira o valor de 'b': 5\n",
      "Insira o valor de 'c': 4\n",
      "As raízes da função são: [-0.25, -4.75]\n"
     ]
    }
   ],
   "source": [
    "def delta(a,b,c):\n",
    "    delta_v = (b ** 2 - 4 * a * c)\n",
    "    return delta_v\n",
    "\n",
    "def raiz(a,b,vl_delta):\n",
    "    if(vl_delta == 0):\n",
    "        vlr_raiz = (-b / 2 * a)\n",
    "        return vlr_raiz\n",
    "    else:\n",
    "        x1 = ((-b + vl_delta ** 1/2) / (2 * a))\n",
    "        x2 = ((-b - vl_delta ** 1/2) / (2 * a))\n",
    "        return [x1, x2]\n",
    "\n",
    "#inicio do programa\n",
    "a = 0\n",
    "\n",
    "while (a == 0):\n",
    "    a = float(input(\"Insira o valor de 'a': \"))\n",
    "    if(a == 0):\n",
    "        print(\"O valor de 'a' não deve ser zero\")\n",
    "        break\n",
    "    else:\n",
    "        b = float(input(\"Insira o valor de 'b': \"))\n",
    "        c = float(input(\"Insira o valor de 'c': \"))\n",
    "        vlr_delta = delta(a,b,c)\n",
    "        if(vlr_delta < 0):\n",
    "            print(\"A equação não possui raízes reais.\")\n",
    "            break\n",
    "        elif(vlr_delta == 0):\n",
    "            raiz_func = raiz(a,b,vlr_delta)\n",
    "            print(\"A raíz da função é: %s\" %(raiz_func))\n",
    "        else:\n",
    "            raiz_funcao = raiz(a,b,vlr_delta)\n",
    "            print(\"As raízes da função são: %s\" %(raiz_funcao[:]))"
   ]
  },
  {
   "cell_type": "markdown",
   "metadata": {},
   "source": [
    "#### 10. Faça um Programa para um caixa eletrônico. O programa deverá perguntar ao usuário a valor do saque e depois informar quantas notas de cada valor serão fornecidas. As notas disponíveis serão as de 1, 5, 10, 50 e 100 reais. O valor mínimo é de 10 reais e o máximo de 600 reais. O programa não deve se preocupar com a quantidade de notas existentes na máquina.\n",
    "- Exemplo 1: Para sacar a quantia de 256 reais, o programa fornece duas notas de 100, uma nota de 50, uma nota de 5 e uma nota de 1;\n",
    "- Exemplo 2: Para sacar a quantia de 399 reais, o programa fornece três notas de 100, uma nota de 50, quatro notas de 10, uma nota de 5 e quatro notas de 1."
   ]
  },
  {
   "cell_type": "code",
   "execution_count": 24,
   "metadata": {},
   "outputs": [
    {
     "name": "stdout",
     "output_type": "stream",
     "text": [
      "Valor do saque: 591\n",
      "O valor digitado: R$ 591.0 \n",
      "5 notas de R$ 100.00 \n",
      "1 notas de R$ 50.00 \n",
      "0 notas de R$ 5.00 \n",
      "1 notas de R$ 1.00 \n"
     ]
    }
   ],
   "source": [
    "saque = float(input(\"Valor do saque: \"))\n",
    "saque_entrada = saque\n",
    "\n",
    "if(saque < 10 or saque > 600):\n",
    "    print(\"Valor de saque não permitido!\")\n",
    "else:\n",
    "    while(saque != 0):\n",
    "        nota100 = int(saque/100)\n",
    "        saque -= nota100 * 100\n",
    "        if(saque > 0):\n",
    "            nota50 = int(saque/50)\n",
    "            saque -= nota50 * 50\n",
    "            if(saque > 0):\n",
    "                nota10 = int(saque/10)\n",
    "                saque -= nota10 * 10\n",
    "                if(saque > 0):\n",
    "                    nota5 = int(saque/5)\n",
    "                    saque -= nota5 * 5\n",
    "                    if(saque > 0):\n",
    "                        nota1 = int(saque/1)\n",
    "                        saque -= nota1 * 1\n",
    "                        \n",
    "    else:\n",
    "        print(f'O valor digitado: R$ {saque_entrada} ')\n",
    "        print(f'{nota100} notas de R$ 100.00 ')\n",
    "        print(f'{nota50} notas de R$ 50.00 ')\n",
    "        print(f'{nota5} notas de R$ 5.00 ')\n",
    "        print(f'{nota1} notas de R$ 1.00 ')\n",
    "       "
   ]
  },
  {
   "cell_type": "markdown",
   "metadata": {},
   "source": [
    "#### 11. Faça um programa que faça 5 perguntas para uma pessoa sobre um crime. As perguntas são: \n",
    "- \"Telefonou para a vítima?\" \n",
    "- \"Esteve no local do crime?\"\n",
    "- \"Mora perto da vítima?\" \n",
    "- \"Devia para a vítima?\" \n",
    "- \"Já trabalhou com a vítima?\". \n",
    "#### O programa deve no final emitir uma classificação sobre a  participação da pessoa no crime. Se a pessoa responder positivamente a 2 questões ela deve ser classificada como \"Suspeita\", entre 3 e 4 como \"Cúmplice\" e 5 como \"Assassino\". Caso contrário, ele será classificado como \"Inocente\"."
   ]
  },
  {
   "cell_type": "code",
   "execution_count": 3,
   "metadata": {},
   "outputs": [
    {
     "name": "stdout",
     "output_type": "stream",
     "text": [
      "Esteve no local do crime? sim\n",
      "Já trabalhou com a vítima? sim\n",
      "Telefonou para a vítima? sim\n",
      "Mora perto da vítima? sim\n",
      "Devia para a vítima? sim\n",
      "Classificação: Assassino\n"
     ]
    }
   ],
   "source": [
    "p1 = input(\"Esteve no local do crime? \")\n",
    "p2 = input(\"Já trabalhou com a vítima? \")\n",
    "p3 = input(\"Telefonou para a vítima? \")\n",
    "p4 = input(\"Mora perto da vítima? \")\n",
    "p5 = input(\"Devia para a vítima? \")\n",
    "\n",
    "armz = [p1.upper(), p2.upper(), p3.upper(), p4.upper(), p5.upper()]\n",
    "julgamento = ['Assassino', 'Inocente', 'Suspeito', 'Cúmplice' ]\n",
    "cont = 0\n",
    "\n",
    "for resposta in armz:\n",
    "    if(resposta == 'SIM'):\n",
    "        cont += 1\n",
    "\n",
    "if(cont < 2):\n",
    "    print('Classificação: %s' %(julgamento[1]))\n",
    "elif(cont >= 2 and cont < 3):\n",
    "    print('Classificação: %s' %(julgamento[2]))\n",
    "elif(cont >= 3 and cont <= 4):\n",
    "    print('Classificação: %s' %(julgamento[3]))\n",
    "else:\n",
    "    print('Classificação: %s' %(julgamento[0]))"
   ]
  },
  {
   "cell_type": "markdown",
   "metadata": {},
   "source": [
    "#### 12. Uma fruteira está vendendo frutas com a seguinte tabela de preços:\n",
    "          Até 5 Kg / Acima de 5 Kg\n",
    "- Morango 2,50 por Kg  /   R 2,20 por Kg\n",
    "- Maçã R 1,80 por Kg   /   R 1,50 por Kg\n",
    "\n",
    "- Se o cliente comprar mais de 8 Kg em frutas ou o valor total da compra ultrapassar 25,00, receberá ainda um desconto de 10% sobre este total. Escreva um algoritmo para ler a quantidade (em Kg) de morangos e a quantidade (em Kg) de maças adquiridas e escreva o valor a ser pago pelo cliente."
   ]
  },
  {
   "cell_type": "code",
   "execution_count": 11,
   "metadata": {},
   "outputs": [
    {
     "name": "stdout",
     "output_type": "stream",
     "text": [
      "Quantos kilos de maçã ? 2\n",
      "Quantos kilos de morango ? 3\n",
      "Quantidade de Morangos - KG: 3.0 / Preco: R$ 7.5 \n",
      "Quantidade de Maçãs - KG: 2.0 / Preco: R$ 3.6 \n",
      "Desconto: 0 % \n",
      "Preço final da compra: R$ 11.10\n"
     ]
    }
   ],
   "source": [
    "def preco_maca(kl_maca):\n",
    "    if(kl_maca < 5):\n",
    "        return kl_maca * 1.80\n",
    "    else:\n",
    "        return kl_maca * 1.50\n",
    "    \n",
    "maca = float(input(\"Quantos kilos de maçã ? \"))\n",
    "\n",
    "\n",
    "def preco_morango(kl_morango):\n",
    "    if(kl_morango < 5):\n",
    "        return kl_morango  * 2.50\n",
    "    else:\n",
    "        return kl_morango * 2.20\n",
    "\n",
    "morango = float(input(\"Quantos kilos de morango ? \"))\n",
    "\n",
    "def somar(morango, maca):\n",
    "    return morango + maca\n",
    "\n",
    "\n",
    "preco_morango = preco_morango(morango)\n",
    "preco_maca = preco_maca(maca)\n",
    "\n",
    "if(somar(morango, maca) >= 8 or somar(preco_morango, preco_maca) >= 25):\n",
    "    desc = 0.10\n",
    "    fim = somar(preco_morango, preco_maca) * (1 - desc)\n",
    "else:\n",
    "    desc = 0.00\n",
    "    fim = somar(preco_morango, preco_maca)\n",
    "\n",
    "print(f'Quantidade de Morangos - KG: {morango} / Preco: R$ {preco_morango} \\nQuantidade de Maçãs - KG: {maca} / Preco: R$ {preco_maca} \\n'\n",
    "     + 'Desconto: %d %% \\n' %(desc*100) + 'Preço final da compra: R$ %.2f'%(fim))\n"
   ]
  },
  {
   "cell_type": "markdown",
   "metadata": {},
   "source": [
    "#### 13. Faça um programa que peça uma nota, entre zero e dez. Mostre uma mensagem caso o valor seja inválido e continue pedindo até que o usuário informe um valor válido."
   ]
  },
  {
   "cell_type": "code",
   "execution_count": 3,
   "metadata": {},
   "outputs": [
    {
     "name": "stdout",
     "output_type": "stream",
     "text": [
      "Digite uma nota entre 0 e 10: 10.1\n",
      "Inválido! Por favor insira um valor valido!\n",
      "Digite uma nota entre 0 e 10: 8\n",
      "Válido!\n"
     ]
    }
   ],
   "source": [
    "while(True):\n",
    "    n = float(input(\"Digite uma nota entre 0 e 10: \"))\n",
    "    if(n < 0 or n > 10):\n",
    "        print(\"Inválido! Por favor insira um valor valido!\")\n",
    "        continue\n",
    "    else:\n",
    "        print(\"Válido!\")\n",
    "        break"
   ]
  },
  {
   "cell_type": "markdown",
   "metadata": {},
   "source": [
    "#### 14. Faça um programa que leia e valide as seguintes informações:\n",
    "- Nome: maior que 3 caracteres;\n",
    "- Idade: entre 0 e 150;\n",
    "- Salário: maior que zero;\n",
    "- Sexo: 'f' ou 'm';\n",
    "- Estado Civil: 's', 'c', 'v', 'd';"
   ]
  },
  {
   "cell_type": "code",
   "execution_count": 8,
   "metadata": {},
   "outputs": [
    {
     "name": "stdout",
     "output_type": "stream",
     "text": [
      "Digite um nome: ga\n",
      "Digite um nome com mais de 3 caracteres!\n",
      "Digite um nome: gabi\n",
      "Nome: gabi\n",
      "Digite uma idade: 1919\n",
      "Digite uma idade entre 0 e 150!\n",
      "Digite uma idade: 19\n",
      "Idade: 19\n",
      "Digite um sexo f - feminino ou m - masculino: fem\n",
      "Digite apenas 'm' ou 'f'!\n",
      "Digite um sexo f - feminino ou m - masculino: f\n",
      "Sexo: f \n",
      "Digite o valor de um salário: 0\n",
      "Salário: 0.0\n",
      "Digite o valor de um salário: 2000\n",
      "Salário: 2000.0\n",
      "Digite um estado civil s - solteiro, d - divorciado, c - casado ou v - viúvo: sol]\n",
      "Digite apenas 's', 'c', 'v' ou 'd'!\n",
      "Digite um estado civil s - solteiro, d - divorciado, c - casado ou v - viúvo: s\n",
      "Estado Civil: s \n"
     ]
    }
   ],
   "source": [
    "nome = \"\"\n",
    "idade = -1\n",
    "salario = 0\n",
    "sexo = \"a\"\n",
    "est_civil = \"\"\n",
    "\n",
    "while(len(nome) < 3):\n",
    "    nome = input(\"Digite um nome: \")\n",
    "    if(len(nome) < 3):\n",
    "        print(\"Digite um nome com mais de 3 caracteres!\")\n",
    "        continue\n",
    "    else:\n",
    "        print(f'Nome: {nome}')\n",
    "\n",
    "while(idade < 0 or idade > 150):\n",
    "    idade = int(input(\"Digite uma idade: \"))\n",
    "    if(idade < 0 or idade > 150):\n",
    "        print(\"Digite uma idade entre 0 e 150!\")\n",
    "        continue\n",
    "    else:\n",
    "        print(f'Idade: {idade}')\n",
    "\n",
    "while(sexo != 'm' and sexo != 'f'):\n",
    "    sexo = input(\"Digite um sexo f - feminino ou m - masculino: \")\n",
    "    if(sexo != 'm' and sexo != 'f'):\n",
    "        print(\"Digite apenas 'm' ou 'f'!\")\n",
    "        continue\n",
    "    else:\n",
    "        print(f'Sexo: {sexo} ')\n",
    "        \n",
    "while(salario == 0):\n",
    "    salario = float(input('Digite o valor de um salário: '))\n",
    "    if(salario < 0):\n",
    "        print(\"Digite um salário maior que zero:\")\n",
    "        continue\n",
    "    else:\n",
    "        print(f'Salário: {salario}')\n",
    "\n",
    "while(est_civil != 's' and est_civil != 'c' and est_civil != 'v' and est_civil != 'd'):\n",
    "    est_civil = input(\"Digite um estado civil s - solteiro, d - divorciado, c - casado ou v - viúvo: \")\n",
    "    if(est_civil != 's' and est_civil != 'c' and est_civil != 'v' and est_civil != 'd'):\n",
    "        print(\"Digite apenas 's', 'c', 'v' ou 'd'!\")\n",
    "        continue\n",
    "    else:\n",
    "        print(f'Estado Civil: {est_civil} ')\n",
    "        \n",
    "   "
   ]
  },
  {
   "cell_type": "markdown",
   "metadata": {},
   "source": [
    "#### 15. Faça um programa que leia 5 números e informe o maior número."
   ]
  },
  {
   "cell_type": "code",
   "execution_count": 5,
   "metadata": {},
   "outputs": [
    {
     "name": "stdout",
     "output_type": "stream",
     "text": [
      "Insira um número: 3\n",
      "Insira um número: 2\n",
      "Insira um número: 1\n",
      "Insira um número: 8\n",
      "O maior número dessa lista é: 8\n"
     ]
    }
   ],
   "source": [
    "a = 0\n",
    "listar = []\n",
    "\n",
    "while(a < 5):\n",
    "    a = int(input(\"Insira um número: \"))\n",
    "    listar.append(a)\n",
    "    a += 1\n",
    "\n",
    "print(\"O maior número dessa lista é: {}\".format(max(listar)))"
   ]
  },
  {
   "cell_type": "markdown",
   "metadata": {},
   "source": [
    "##### 16. Faça um programa que leia 5 números e informe a soma e a média dos números."
   ]
  },
  {
   "cell_type": "code",
   "execution_count": 6,
   "metadata": {},
   "outputs": [
    {
     "name": "stdout",
     "output_type": "stream",
     "text": [
      "Insira um número: 2\n",
      "Insira um número: 2\n",
      "Insira um número: 2\n",
      "Insira um número: 2\n",
      "Insira um número: 2\n",
      "A soma dos números dessa lista é: 10 \n",
      "A média dos números dessa lista é: 2.0\n"
     ]
    }
   ],
   "source": [
    "a = 0\n",
    "listar2 = []\n",
    "\n",
    "while(a < 5):\n",
    "    n = int(input(\"Digite um número: \"))\n",
    "    listar2.append(n)\n",
    "    a += 1\n",
    "\n",
    "soma = (sum(listar2))\n",
    "media =((soma)/len(listar2))\n",
    "        \n",
    "print(f'A soma dos números dessa lista é: {soma} \\nA média dos números dessa lista é: {media}')"
   ]
  },
  {
   "cell_type": "markdown",
   "metadata": {},
   "source": [
    "#### 17. Faça um programa que imprima na tela apenas os números ímpares entre 1 e 50."
   ]
  },
  {
   "cell_type": "code",
   "execution_count": 8,
   "metadata": {},
   "outputs": [
    {
     "name": "stdout",
     "output_type": "stream",
     "text": [
      "1\n",
      "3\n",
      "5\n",
      "7\n",
      "9\n",
      "11\n",
      "13\n",
      "15\n",
      "17\n",
      "19\n",
      "21\n",
      "23\n",
      "25\n",
      "27\n",
      "29\n",
      "31\n",
      "33\n",
      "35\n",
      "37\n",
      "39\n",
      "41\n",
      "43\n",
      "45\n",
      "47\n",
      "49\n"
     ]
    }
   ],
   "source": [
    "numero = 0\n",
    "while(numero <= 50):\n",
    "    if(numero % 2 == 1):\n",
    "        print(numero)\n",
    "    numero += 1"
   ]
  },
  {
   "cell_type": "markdown",
   "metadata": {},
   "source": [
    "#### 18. Desenvolva um gerador de tabuada, capaz de gerar a tabuada de qualquer número inteiro entre 1 a 10. O usuário deve informar de qual numero ele deseja ver a tabuada. A saída deve ser conforme o exemplo abaixo:\n",
    "#### Tabuada de 5:\n",
    "- 5 X 1 = 5\n",
    "- 5 X 2 = 10\n",
    "- ...\n",
    "- 5 X 10 = 50"
   ]
  },
  {
   "cell_type": "code",
   "execution_count": 1,
   "metadata": {},
   "outputs": [
    {
     "name": "stdout",
     "output_type": "stream",
     "text": [
      "Insira o número da tabuada: 3\n",
      "Tabuada do 3:\n",
      "3 X 1 = 3\n",
      "3 X 2 = 6\n",
      "3 X 3 = 9\n",
      "3 X 4 = 12\n",
      "3 X 5 = 15\n",
      "3 X 6 = 18\n",
      "3 X 7 = 21\n",
      "3 X 8 = 24\n",
      "3 X 9 = 27\n",
      "3 X 10 = 30\n"
     ]
    }
   ],
   "source": [
    "valor = int(input(\"Insira o número da tabuada: \"))\n",
    "tabuada = 1\n",
    "print(f'Tabuada do {valor}:')\n",
    "while(tabuada <= 10):\n",
    "    print(f'{valor} X {tabuada} = {(valor * tabuada)}')\n",
    "    tabuada += 1"
   ]
  },
  {
   "cell_type": "markdown",
   "metadata": {},
   "source": [
    "#### 19. A série de Fibonacci é formada pela seqüência 1,1,2,3,5,8,13,21,34,55,... Faça um programa capaz de gerar a série até o n−ésimo termo."
   ]
  },
  {
   "cell_type": "code",
   "execution_count": 8,
   "metadata": {},
   "outputs": [
    {
     "name": "stdout",
     "output_type": "stream",
     "text": [
      "Indique o n-ésimo termo: 2\n",
      "1\n",
      "1\n"
     ]
    }
   ],
   "source": [
    "numero = int(input(\"Indique o n-ésimo termo: \"))\n",
    "f = 0\n",
    "fibonacci = []\n",
    "\n",
    "while( f <= (numero - 1)):\n",
    "    if(f == 0 or f == 1):\n",
    "        fibonacci.append(1)\n",
    "        print(fibonacci[f])\n",
    "    else:\n",
    "        fib = fibonacci[f - 1] + fibonacci[f - 2]\n",
    "        fibonacci.append(fib)\n",
    "        print(fibonacci[f])\n",
    "    f += 1"
   ]
  },
  {
   "cell_type": "markdown",
   "metadata": {},
   "source": [
    "#### 20. Faça um programa que calcule o fatorial de um número inteiro fornecido pelo usuário. Ex.: 5!=5.4.3.2.1=120"
   ]
  },
  {
   "cell_type": "code",
   "execution_count": 14,
   "metadata": {},
   "outputs": [
    {
     "name": "stdout",
     "output_type": "stream",
     "text": [
      "Digite um número para calcular a fatirial:5\n",
      "5! é : 120\n"
     ]
    }
   ],
   "source": [
    "n = int(input(\"Digite um número para calcular a fatirial:\")) \n",
    "fatorial = 1 \n",
    "i= 1 \n",
    "while i<= n :\n",
    "    fatorial *= i \n",
    "    i+= 1 \n",
    "print(f'{n}! é : {fatorial}') "
   ]
  },
  {
   "cell_type": "markdown",
   "metadata": {},
   "source": [
    "#### 21. O Sr. Manoel Joaquim possui uma grande loja de artigos de  1,99, com cerca de 10 caixas. Para agilizar o cálculo de quanto cada cliente deve pagar ele desenvolveu um tabela que contém o número de itens que o cliente comprou e ao lado o valor da conta. Desta forma a atendente do caixa precisa apenas contar quantos itens o cliente está levando e olhar na tabela de preços. Você foi contratado para desenvolver o programa que monta esta tabela de preços, que conterá os preços de 1 até 50 produtos, conforme o exemplo abaixo: Lojas Quase Dois - Tabela de preços\n",
    " - 1 - 1.99 \n",
    " - 2 - 3.98\n",
    " - ...\n",
    " - 50 - 99.50"
   ]
  },
  {
   "cell_type": "code",
   "execution_count": 18,
   "metadata": {},
   "outputs": [
    {
     "name": "stdout",
     "output_type": "stream",
     "text": [
      "QUANTIDADE / PRECO\n",
      "1 / 1.99\n",
      "2 / 3.98\n",
      "3 / 5.97\n",
      "4 / 7.96\n",
      "5 / 9.95\n",
      "6 / 11.94\n",
      "7 / 13.93\n",
      "8 / 15.92\n",
      "9 / 17.91\n",
      "10 / 19.9\n",
      "11 / 21.89\n",
      "12 / 23.88\n",
      "13 / 25.87\n",
      "14 / 27.86\n",
      "15 / 29.85\n",
      "16 / 31.84\n",
      "17 / 33.83\n",
      "18 / 35.82\n",
      "19 / 37.81\n",
      "20 / 39.8\n",
      "21 / 41.79\n",
      "22 / 43.78\n",
      "23 / 45.77\n",
      "24 / 47.76\n",
      "25 / 49.75\n",
      "26 / 51.74\n",
      "27 / 53.73\n",
      "28 / 55.72\n",
      "29 / 57.71\n",
      "30 / 59.7\n",
      "31 / 61.69\n",
      "32 / 63.68\n",
      "33 / 65.67\n",
      "34 / 67.66\n",
      "35 / 69.65\n",
      "36 / 71.64\n",
      "37 / 73.63\n",
      "38 / 75.62\n",
      "39 / 77.61\n",
      "40 / 79.6\n",
      "41 / 81.59\n",
      "42 / 83.58\n",
      "43 / 85.57\n",
      "44 / 87.56\n",
      "45 / 89.55\n",
      "46 / 91.54\n",
      "47 / 93.53\n",
      "48 / 95.52\n",
      "49 / 97.51\n",
      "50 / 99.5\n"
     ]
    }
   ],
   "source": [
    "itens = list(range(1,51))\n",
    "preco = []\n",
    "x = 0\n",
    "\n",
    "for item in itens:\n",
    "    vlr = item * 1.99\n",
    "    preco.append(vlr)\n",
    "\n",
    "\n",
    "print('QUANTIDADE / PRECO')\n",
    "\n",
    "\n",
    "while(x < len(itens) or x < len(preco)):\n",
    "    print( f'{itens[x]} / {preco[x]}')\n",
    "    x += 1"
   ]
  },
  {
   "cell_type": "markdown",
   "metadata": {},
   "source": [
    "#### 22. O Sr. Manoel Joaquim acaba de adquirir uma panificadora e pretende implantar a metodologia da tabelinha, que já é um sucesso na sua loja de 1,99. Você foi contratado para desenvolver o programa que monta a tabela de preços de pães, de 1 até 50 pães, a partir do preço do pão informado pelo usuário, conforme o exemplo abaixo: Preço do pão: 0.18 Panificadora Pão de Ontem - Tabela de preços\n",
    "- 1 - R 0.18\n",
    "- 2 - R 0.36\n",
    "- ...\n",
    "- 50 - R 9.00"
   ]
  },
  {
   "cell_type": "code",
   "execution_count": 20,
   "metadata": {},
   "outputs": [
    {
     "name": "stdout",
     "output_type": "stream",
     "text": [
      "Insira o preço do pão: 0.45\n",
      "QUANTIDADE / PRECO\n",
      "1 / 0.45\n",
      "2 / 0.9\n",
      "3 / 1.35\n",
      "4 / 1.8\n",
      "5 / 2.25\n",
      "6 / 2.7\n",
      "7 / 3.15\n",
      "8 / 3.6\n",
      "9 / 4.05\n",
      "10 / 4.5\n",
      "11 / 4.95\n",
      "12 / 5.4\n",
      "13 / 5.8500000000000005\n",
      "14 / 6.3\n",
      "15 / 6.75\n",
      "16 / 7.2\n",
      "17 / 7.65\n",
      "18 / 8.1\n",
      "19 / 8.55\n",
      "20 / 9.0\n",
      "21 / 9.450000000000001\n",
      "22 / 9.9\n",
      "23 / 10.35\n",
      "24 / 10.8\n",
      "25 / 11.25\n",
      "26 / 11.700000000000001\n",
      "27 / 12.15\n",
      "28 / 12.6\n",
      "29 / 13.05\n",
      "30 / 13.5\n",
      "31 / 13.950000000000001\n",
      "32 / 14.4\n",
      "33 / 14.85\n",
      "34 / 15.3\n",
      "35 / 15.75\n",
      "36 / 16.2\n",
      "37 / 16.650000000000002\n",
      "38 / 17.1\n",
      "39 / 17.55\n",
      "40 / 18.0\n",
      "41 / 18.45\n",
      "42 / 18.900000000000002\n",
      "43 / 19.35\n",
      "44 / 19.8\n",
      "45 / 20.25\n",
      "46 / 20.7\n",
      "47 / 21.150000000000002\n",
      "48 / 21.6\n",
      "49 / 22.05\n",
      "50 / 22.5\n"
     ]
    }
   ],
   "source": [
    "preco_informado = float(input(\"Insira o preço do pão: \"))\n",
    "\n",
    "itens = list(range(1,51))\n",
    "preco = []\n",
    "x = 0\n",
    "\n",
    "for item in itens:\n",
    "    vlr = item * preco_informado\n",
    "    preco.append(vlr)\n",
    "\n",
    "print('QUANTIDADE / PRECO')\n",
    "\n",
    "\n",
    "while(x < len(itens) or x < len(preco)):\n",
    "    print( f'{itens[x]} / {preco[x]}')\n",
    "    x += 1"
   ]
  },
  {
   "cell_type": "markdown",
   "metadata": {},
   "source": [
    "#### 23. O Sr. Manoel Joaquim expandiu seus negócios para além dos negócios de 1,99 e agora possui uma loja de conveniências. Faça um programa que implemente uma caixa registradora rudimentar. O programa deverá receber um número desconhecido de valores referentes aos preços das mercadorias. Um valor zero deve ser informado pelo operador para indicar o final da compra. O programa deve então mostrar o total da compra e perguntar o valor em dinheiro que o cliente forneceu, para então calcular e mostrar o valor do troco. Após esta operação, o programa deverá voltar ao ponto inicial, para registrar a próxima compra. A saída deve ser conforme o exemplo abaixo: Lojas Tabajara\n",
    "- Produto 1: R 2.20\n",
    "- Produto 2 R 5.80\n",
    "- Produto 3: R 0\n",
    "- Total: R 9.00\n",
    "- Dinheiro: R 20.00\n",
    "- Troco: R 11.00\n",
    "- ..."
   ]
  },
  {
   "cell_type": "code",
   "execution_count": null,
   "metadata": {},
   "outputs": [],
   "source": [
    "while(True):\n",
    "    valor = -1\n",
    "    precos = []\n",
    "    cont = 0\n",
    "    falta = 0\n",
    "    while(valor != 0):\n",
    "        valor = float(input(\"Preço do produto: \"))\n",
    "        precos.append(valor)\n",
    "    else:\n",
    "        quantidade = list(range(1, len(precos)))\n",
    "        total_compra = sum(precos)\n",
    "        while(cont <= (len(quantidade)- 1)):\n",
    "            print(20 * '-')\n",
    "            print('Produto {}: R$ {}'.format(quantidade[cont], precos[cont]))\n",
    "            cont += 1\n",
    "        print(20 * '-' + f'\\nTOTAL: R$ {total_compra}')\n",
    "        recebimento = float(input(\"DINHEIRO: \"))\n",
    "        if(recebimento < total_compra):\n",
    "            a_receber = total_compra - recebimento\n",
    "            while(falta < a_receber):\n",
    "                falta = float(input(f\"Falta receber R$ {a_receber}, insira esse valor: \"))\n",
    "            print(\"TROCO: R${} \\n\".format((recebimento + falta) - total_compra))\n",
    "        else:\n",
    "            print(\"TROCO: R${} \\n\".format(recebimento - total_compra))\n",
    "    continue"
   ]
  },
  {
   "cell_type": "markdown",
   "metadata": {},
   "source": [
    "##### 24. Foi feita uma estatística em cinco cidades brasileiras para coletar dados sobre acidentes de trânsito. Foram obtidos os seguintes dados:\n",
    "- Código da cidade;\n",
    "- Número de veículos de passeio (em 1999);\n",
    "- Número de acidentes de trânsito com vítimas (em 1999). Deseja-se saber:\n",
    "- Qual o maior e menor índice de acidentes de transito e a que cidade pertence;\n",
    "- Qual a média de veículos nas cinco cidades juntas;\n",
    "- Qual a média de acidentes de trânsito nas cidades com menos de 2.000 veículos de passeio."
   ]
  },
  {
   "cell_type": "code",
   "execution_count": null,
   "metadata": {},
   "outputs": [],
   "source": [
    "x = 0\n",
    "estatistica = []\n",
    "cont = 0\n",
    "lista1 = []\n",
    "\n",
    "while(x < 5):\n",
    "    lista = []\n",
    "    id_cidade = int(input(\"Insira o código da cidade: \"))\n",
    "    n_carros = int(input(\"Insira a quantidade de carros: \"))\n",
    "    n_acidentes = int(input(\"Insira o número de acidentes de transito: \"))\n",
    "    lista = [id_cidade, n_carros, n_acidentes]\n",
    "    estatistica.append(lista)\n",
    "    x += 1\n",
    "\n",
    "#verifica a cidade com o maior e o menor indice de acidentes\n",
    "acidentes = {row[0]:row[2] for row in estatistica}\n",
    "chaves = list(acidentes.keys())\n",
    "valores = list(acidentes.values())\n",
    "\n",
    "maior = max(valores)\n",
    "indice_maior = valores.index(maior)\n",
    "print(\"\\nO maior índice de acidentes é %d, onde o código da cidade é %d\" %(maior, chaves[indice_maior]))\n",
    "menor = min(valores)\n",
    "indice_menor = valores.index(menor)\n",
    "print(\"\\nO menor índice de acidentes é %d, onde o código da cidade é %d\" %(menor, chaves[indice_menor]))\n",
    "\n",
    "#verifica a média de veículos nas 5 cidades\n",
    "veiculos = [row[1] for row in estatistica]\n",
    "media = sum(veiculos)/len(veiculos)\n",
    "print(\"\\nA média de veículos nas 5 cidades é %.2f\" %(media))\n",
    "\n",
    "#verifica a média de acidentes onde veiculos < 2000\n",
    "cidade_acidente = {row[0]:row[2] for row in estatistica}\n",
    "cidade_acidente_k = list(cidade_acidente.keys())\n",
    "cidade_acidente_v = list(cidade_acidente.values())\n",
    "\n",
    "cidade_veiculo = {row[0]:row[1] for row in estatistica}\n",
    "cidade_veiculo_k = list(cidade_veiculo.keys())\n",
    "cidade_veiculo_v = list(cidade_veiculo.values())\n",
    "\n",
    "for carro in cidade_veiculo_v:\n",
    "    if(carro < 2000):\n",
    "        indice_carro = cidade_veiculo_v.index(carro)\n",
    "        lista1 += [cidade_acidente_v[indice_carro]]\n",
    "        \n",
    "mediaCalculada = sum(lista1)/len(lista1)\n",
    "print('\\nA média de acidentes nas cidades onde os veículos são menores que 2000 é: %.2f' %(mediaCalculada))"
   ]
  },
  {
   "cell_type": "markdown",
   "metadata": {},
   "source": [
    "#### 25. Faça um programa que receba o valor de uma dívida e mostre uma tabela com os seguintes dados: valor da dívida, valor dos juros, quantidade de parcelas e valor da parcela. Os juros e a quantidade de parcelas seguem a tabela abaixo: Quantidade de Parcelas % de Juros sobre o valor inicial da dívida\n",
    "- 1 0\n",
    "- 3 10\n",
    "- 6 15\n",
    "- 9 20\n",
    "- 12 25\n",
    "#### Exemplo de saída do programa: Valor da Dívida Valor dos Juros Quantidade de Parcelas Valor da Parcela\n",
    "-  1.000,00 0  / 1 /  1.000,00\n",
    "-  1.100,00 100/ 3 /  366,00\n",
    "-  1.150,00 150/ 6 / 191,67"
   ]
  },
  {
   "cell_type": "code",
   "execution_count": 9,
   "metadata": {},
   "outputs": [
    {
     "name": "stdout",
     "output_type": "stream",
     "text": [
      "573.2470258834508\n"
     ]
    }
   ],
   "source": [
    "n= 10\n",
    "num =1 \n",
    "dem = 1\n",
    "soma= 0 \n",
    "\n",
    "while num <= n :\n",
    "    soma += num/dem\n",
    "    num+=1 \n",
    "    dem += 2 \n",
    "\n",
    "print( soma) "
   ]
  },
  {
   "cell_type": "markdown",
   "metadata": {},
   "source": [
    "#### 26. Faça um programa que mostre os n termos da Série a seguir: \n",
    "S = 1/1 + 2/3 + 3/5 + 4/7 + 5/9 + ... + n/m.\n",
    "#### Imprima no final a soma da série."
   ]
  },
  {
   "cell_type": "code",
   "execution_count": 10,
   "metadata": {},
   "outputs": [
    {
     "name": "stdout",
     "output_type": "stream",
     "text": [
      "Insira o n-ésimo termo: 3\n",
      "Soma da série = 2.27\n"
     ]
    }
   ],
   "source": [
    "n = int(input(\"Insira o n-ésimo termo: \"))\n",
    "lista = list(range(1, n + 1))\n",
    "cont = 0\n",
    "x = 1\n",
    "s = 0\n",
    "while(cont < len(lista)):\n",
    "    s += (lista[cont]/x)\n",
    "    x += 2\n",
    "    cont += 1\n",
    "print('Soma da série = %.2f' %(s))"
   ]
  },
  {
   "cell_type": "code",
   "execution_count": null,
   "metadata": {},
   "outputs": [],
   "source": []
  }
 ],
 "metadata": {
  "kernelspec": {
   "display_name": "Python 3",
   "language": "python",
   "name": "python3"
  },
  "language_info": {
   "codemirror_mode": {
    "name": "ipython",
    "version": 3
   },
   "file_extension": ".py",
   "mimetype": "text/x-python",
   "name": "python",
   "nbconvert_exporter": "python",
   "pygments_lexer": "ipython3",
   "version": "3.6.4"
  }
 },
 "nbformat": 4,
 "nbformat_minor": 2
}
